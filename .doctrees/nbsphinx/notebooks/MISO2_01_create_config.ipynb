{
 "cells": [
  {
   "cell_type": "markdown",
   "id": "fe7671abd1442f6b",
   "metadata": {
    "collapsed": false
   },
   "source": [
    "# Creating a MISO2 config"
   ]
  },
  {
   "cell_type": "code",
   "execution_count": null,
   "id": "26e215dc61d18e32",
   "metadata": {
    "collapsed": false
   },
   "outputs": [],
   "source": [
    "import logging\n",
    "import os\n",
    "from datetime import datetime\n",
    "from util.MISO2_file_manager import get_parameter_filenames\n",
    "from model.config.MISO2_logger import get_MISO2_logger\n",
    "from model.config.MISO2_config import MISO2Config\n",
    "from preprocessing.checks.MISO2_input_data_sanity_check import input_data_sanity_check"
   ]
  },
  {
   "cell_type": "markdown",
   "id": "b37d0c344b25c937",
   "metadata": {
    "collapsed": false
   },
   "source": [
    "Set file paths in relation to the directory where you are executing the code from"
   ]
  },
  {
   "cell_type": "code",
   "execution_count": null,
   "id": "774f51f54c70f2e5",
   "metadata": {
    "collapsed": false
   },
   "outputs": [],
   "source": [
    "main_path = os.path.join(os.getcwd(), os.pardir, os.pardir, os.pardir)\n",
    "input_path = os.path.join(main_path, \"input\", \"input_usuk\")\n",
    "config_path = os.path.join(main_path, \"config\")\n",
    "config_filename = 'MISO2_Config_USUK_v1.xlsx'\n",
    "classification_filename = 'MISO2_Classifications_Master_USUK_v1.xlsx'\n",
    "# config and classification need to be manually set. different configs may make use of the same set of input parameter files"
   ]
  },
  {
   "cell_type": "markdown",
   "id": "568372774b8fb99c",
   "metadata": {
    "collapsed": false
   },
   "source": [
    "Set logging levels. Use a level lower than WARN only for debugging purposes "
   ]
  },
  {
   "cell_type": "code",
   "execution_count": null,
   "id": "6273c143d9ad11eb",
   "metadata": {
    "collapsed": false
   },
   "outputs": [],
   "source": [
    "timestamp = datetime.now().strftime(\"%Y_%m_%d_%H_%M_%S\")\n",
    "\n",
    "get_MISO2_logger(\n",
    "    log_filename='MISO2_log_' + timestamp + \".txt\",\n",
    "    log_pathname=os.path.join(main_path, 'logs'),\n",
    "    file_level=None,\n",
    "    console_level=logging.WARN)\n"
   ]
  },
  {
   "cell_type": "markdown",
   "id": "b4d25d24a4c54713",
   "metadata": {
    "collapsed": false
   },
   "source": [
    "It never hurts to make a sanity data check of the input files. Note that this has a write back option available which you probably do not want to use blindly. The sanity check controls for dimensions and data availability and emits warnings if it encounters a mismatch. Output is omitted here."
   ]
  },
  {
   "cell_type": "code",
   "execution_count": null,
   "id": "26c4f7300003ea88",
   "metadata": {
    "collapsed": false
   },
   "outputs": [],
   "source": [
    "filenames = get_parameter_filenames(input_path, config_filename)\n",
    "input_data_sanity_check(input_path, filenames, write_back=False)"
   ]
  },
  {
   "cell_type": "markdown",
   "id": "dfda5e4aa143d420",
   "metadata": {
    "collapsed": false
   },
   "source": [
    "Parsing uses ODYM functionality"
   ]
  },
  {
   "cell_type": "code",
   "execution_count": null,
   "id": "2aaf4a9922ef4eb6",
   "metadata": {
    "collapsed": false
   },
   "outputs": [],
   "source": [
    "miso_config = MISO2Config(data_path=input_path,\n",
    "                          config_path=config_path,\n",
    "                          timestamp=timestamp)\n",
    "\n",
    "miso_config.initialise_from_excel(config_filename=config_filename,\n",
    "                                  classification_filename=classification_filename,\n",
    "                                  parse_uncertainty=True)"
   ]
  },
  {
   "cell_type": "markdown",
   "id": "e249e8bec1c02bad",
   "metadata": {
    "collapsed": false
   },
   "source": [
    "Save the config for later use in a binary format"
   ]
  },
  {
   "cell_type": "code",
   "execution_count": null,
   "id": "46f14f5a855284ed",
   "metadata": {
    "collapsed": false
   },
   "outputs": [],
   "source": [
    "miso_config.save_to_pickle(\"selected_countries_config.pickle\")"
   ]
  }
 ],
 "metadata": {
  "kernelspec": {
   "display_name": "Python 3",
   "language": "python",
   "name": "python3"
  },
  "language_info": {
   "codemirror_mode": {
    "name": "ipython",
    "version": 2
   },
   "file_extension": ".py",
   "mimetype": "text/x-python",
   "name": "python",
   "nbconvert_exporter": "python",
   "pygments_lexer": "ipython2",
   "version": "2.7.6"
  }
 },
 "nbformat": 4,
 "nbformat_minor": 5
}
