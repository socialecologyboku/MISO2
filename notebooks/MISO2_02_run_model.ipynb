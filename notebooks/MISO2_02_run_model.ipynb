{
 "cells": [
  {
   "cell_type": "markdown",
   "id": "5a3d86a82679f1a1",
   "metadata": {
    "collapsed": false
   },
   "source": [
    "# Running the MISO2 model"
   ]
  },
  {
   "cell_type": "code",
   "execution_count": 0,
   "id": "2adb803dfb48c05",
   "metadata": {
    "collapsed": false
   },
   "outputs": [],
   "source": [
    "import logging\n",
    "import pickle\n",
    "import os\n",
    "import multiprocess as mp\n",
    "from itertools import repeat\n",
    "from datetime import datetime\n",
    "from model.config.MISO2_config import split_config\n",
    "from model.core.MISO2_multiprocessing import miso_run_pool\n",
    "from model.config.MISO2_logger import get_MISO2_logger\n",
    "from model.output.MISO2_database import MISO2Database"
   ]
  },
  {
   "cell_type": "code",
   "execution_count": null,
   "id": "8c3f96a87cbd09c5",
   "metadata": {
    "collapsed": false
   },
   "outputs": [],
   "source": [
    "main_path = os.path.join(os.getcwd(), os.pardir, os.pardir, os.pardir)\n",
    "config_path = os.path.join(main_path, \"config\")\n",
    "output_path = os.path.join(main_path, \"output\", \"usuk\")"
   ]
  },
  {
   "cell_type": "code",
   "execution_count": null,
   "id": "a199083daa5f4abd",
   "metadata": {
    "collapsed": false
   },
   "outputs": [],
   "source": [
    "timestamp = datetime.now().strftime(\"%Y_%m_%d_%H_%M_%S\")\n",
    "get_MISO2_logger(\n",
    "    log_filename='MISO2_log_' + timestamp + \".txt\",\n",
    "    log_pathname=os.path.join(main_path, 'logs'),\n",
    "    file_level=None,\n",
    "    console_level=logging.WARNING)"
   ]
  },
  {
   "cell_type": "code",
   "execution_count": null,
   "id": "b4b2b8406bf28f07",
   "metadata": {
    "collapsed": false
   },
   "outputs": [],
   "source": [
    "with open(os.path.join(config_path,\"selected_countries_config.pickle\"), 'rb') as f:\n",
    "    miso_config = pickle.load(f)"
   ]
  },
  {
   "cell_type": "markdown",
   "id": "78b2840c9e38e8df",
   "metadata": {
    "collapsed": false
   },
   "source": [
    "We split the master config into individual regions due to memory constraints."
   ]
  },
  {
   "cell_type": "code",
   "execution_count": null,
   "id": "da92c446f9c965c6",
   "metadata": {
    "collapsed": false
   },
   "outputs": [],
   "source": [
    "config_split = []\n",
    "for i in range(0, miso_config.nr_stop):\n",
    "    new_config = split_config(miso_config, i)\n",
    "    config_split.append(new_config)"
   ]
  },
  {
   "cell_type": "markdown",
   "id": "8a1c03b41da4656",
   "metadata": {
    "collapsed": false
   },
   "source": [
    "The model run over the split configs is multi-processed. Increase the number of processes if your system memory can handle processing multiple configs at once."
   ]
  },
  {
   "cell_type": "code",
   "execution_count": null,
   "id": "a27789c8f2266ed3",
   "metadata": {
    "collapsed": false
   },
   "outputs": [],
   "source": [
    "run_model_arguments = {\n",
    "    \"estimate_aggregates\": True,  # default option\n",
    "    \"output_path\": output_path,\n",
    "    \"log_path\": output_path,\n",
    "    \"save_stock_cohorts\": False,    # very large memory / disk-space requirements\n",
    "    \"save_last_year\": False,    # this is the buffer year and does not contain full results\n",
    "    \"save_debug_output\": False, #  mass balances and other debug output are saved in the model object and can be saved to file\n",
    "    \"sf_parametrization\": \"MISO2LogNormal\"  # this is the default\n",
    "}\n",
    "\n",
    "n_processes = 1\n",
    "\n",
    "with mp.Pool(n_processes) as pool:\n",
    "    miso_outputs_list = pool.starmap(\n",
    "        miso_run_pool, zip(config_split, repeat(run_model_arguments), repeat(None), repeat(None), repeat(logging.WARNING)), chunksize=1)"
   ]
  },
  {
   "cell_type": "code",
   "execution_count": null,
   "id": "b06fa288f54f24a",
   "metadata": {
    "collapsed": false
   },
   "outputs": [],
   "source": [
    "output_path = os.path.join(main_path, \"output\", \"usuk\")\n",
    "os.makedirs(output_path, exist_ok=True)\n",
    "db_folder = os.path.join(output_path, \"selected_countries_cohorts\")  # only required if cohorts are saved\n",
    "os.makedirs(db_folder, exist_ok=True)"
   ]
  },
  {
   "cell_type": "markdown",
   "id": "86b0fee01b14bdd8",
   "metadata": {
    "collapsed": false
   },
   "source": [
    "Database is just a wrapper object for the dataframes that the MISO2 model outputs. It provides some convenience functionality for handling the data."
   ]
  },
  {
   "cell_type": "code",
   "execution_count": null,
   "id": "26942276308f9c9e",
   "metadata": {
    "collapsed": false
   },
   "outputs": [],
   "source": [
    "miso_database = MISO2Database()\n",
    "miso_database.add_miso_outputs(miso_outputs_list, db_folder=db_folder)"
   ]
  },
  {
   "cell_type": "markdown",
   "id": "8f4f57606348ba3f",
   "metadata": {
    "collapsed": false
   },
   "source": [
    "We can save the database object to parquet (if we want to restore the database into a Python object) or CSV (for data export). Note that xlsx export is not recommended, since saving large XLSX is extremely slow. "
   ]
  },
  {
   "cell_type": "code",
   "execution_count": null,
   "id": "29201e214444b1a0",
   "metadata": {
    "collapsed": false
   },
   "outputs": [],
   "source": [
    "miso_database.save_to_file(\"parquet\", output_path, False, \"miso_db\")\n",
    "miso_database.save_to_file(\"csv\", output_path, False, \"miso_db\")"
   ]
  }
 ],
 "metadata": {
  "kernelspec": {
   "display_name": "Python 3",
   "language": "python",
   "name": "python3"
  },
  "language_info": {
   "codemirror_mode": {
    "name": "ipython",
    "version": 2
   },
   "file_extension": ".py",
   "mimetype": "text/x-python",
   "name": "python",
   "nbconvert_exporter": "python",
   "pygments_lexer": "ipython2",
   "version": "2.7.6"
  }
 },
 "nbformat": 4,
 "nbformat_minor": 5
}
